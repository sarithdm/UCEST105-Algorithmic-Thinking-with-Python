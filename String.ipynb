{
  "nbformat": 4,
  "nbformat_minor": 0,
  "metadata": {
    "colab": {
      "provenance": []
    },
    "kernelspec": {
      "name": "python3",
      "display_name": "Python 3"
    },
    "language_info": {
      "name": "python"
    }
  },
  "cells": [
    {
      "cell_type": "markdown",
      "source": [
        "##Write a program to input a character and check if it’s a special character or not."
      ],
      "metadata": {
        "id": "cYYyD3nOpySR"
      }
    },
    {
      "cell_type": "code",
      "execution_count": 1,
      "metadata": {
        "colab": {
          "base_uri": "https://localhost:8080/"
        },
        "id": "MGA7_XdopoFY",
        "outputId": "6229b2e9-c5ef-47a8-af54-1e8051525fd4"
      },
      "outputs": [
        {
          "output_type": "stream",
          "name": "stdout",
          "text": [
            "Enter a single character: &\n",
            "'&' is a special character.\n"
          ]
        }
      ],
      "source": [
        "# Program to check if the input character is a special character\n",
        "\n",
        "# Input a single character from the user\n",
        "char = input(\"Enter a single character: \")\n",
        "\n",
        "# Check if the character is a special character\n",
        "if len(char) != 1:\n",
        "    print(\"Please enter only one character.\")\n",
        "elif char.isalnum():\n",
        "    print(f\"'{char}' is not a special character.\")\n",
        "else:\n",
        "    print(f\"'{char}' is a special character.\")\n"
      ]
    },
    {
      "cell_type": "markdown",
      "source": [
        "##Write a program to count the number of words in a sentence"
      ],
      "metadata": {
        "id": "XRM_WZdrp4r2"
      }
    },
    {
      "cell_type": "code",
      "source": [
        "# Program to count the number of words in a sentence without using split()\n",
        "\n",
        "# Input a sentence from the user\n",
        "sentence = input(\"Enter a sentence: \")\n",
        "\n",
        "# Initialize variables\n",
        "word_count = 0\n",
        "in_word = False\n",
        "\n",
        "# Iterate through each character in the sentence\n",
        "for char in sentence:\n",
        "    if char.isspace():  # If the character is a space\n",
        "        in_word = False\n",
        "    elif not in_word:  # If the character is not a space and we're not already in a word\n",
        "        in_word = True\n",
        "        word_count += 1\n",
        "\n",
        "\n",
        "# Display the result\n",
        "print(f\"The number of words in the sentence is: {word_count}\")\n"
      ],
      "metadata": {
        "colab": {
          "base_uri": "https://localhost:8080/"
        },
        "id": "EWdyi9qUpx0_",
        "outputId": "34a6c56a-2076-46ef-9c24-2cc07676b7d8"
      },
      "execution_count": 6,
      "outputs": [
        {
          "output_type": "stream",
          "name": "stdout",
          "text": [
            "Enter a sentence: Hello how are you\n",
            "The number of words in the sentence is: 4\n"
          ]
        }
      ]
    },
    {
      "cell_type": "markdown",
      "source": [
        "##Write a program that takes a binary number as string input and prints whether the number is odd or even."
      ],
      "metadata": {
        "id": "T5RJlQkHrTcT"
      }
    },
    {
      "cell_type": "code",
      "source": [
        "# Input a binary number as a string\n",
        "binary_number = input(\"Enter a binary number: \")\n",
        "\n",
        "# Check if it's odd or even based on the last character\n",
        "if binary_number[-1] == '1':\n",
        "    print(\"Odd\")\n",
        "else:\n",
        "    print(\"Even\")\n"
      ],
      "metadata": {
        "colab": {
          "base_uri": "https://localhost:8080/"
        },
        "id": "ry5yqApMqLOi",
        "outputId": "b96f8323-99e0-4914-b56c-1d5b981dc90c"
      },
      "execution_count": 7,
      "outputs": [
        {
          "output_type": "stream",
          "name": "stdout",
          "text": [
            "Enter a binary number: 001\n",
            "Odd\n"
          ]
        }
      ]
    },
    {
      "cell_type": "markdown",
      "source": [
        "##Write a program to input a word and replace all alternate characters with $"
      ],
      "metadata": {
        "id": "lwxPBZv0r0cs"
      }
    },
    {
      "cell_type": "code",
      "source": [
        "# Input a word from the user\n",
        "word = input(\"Enter a word: \")\n",
        "\n",
        "# Replace alternate characters with '$'\n",
        "modified_word = \"\"\n",
        "for i in range(len(word)):\n",
        "    if i % 2 == 0:\n",
        "        modified_word += word[i]\n",
        "    else:\n",
        "        modified_word += \"$\"\n",
        "\n",
        "# Display the result\n",
        "print(f\"Modified word: {modified_word}\")\n"
      ],
      "metadata": {
        "colab": {
          "base_uri": "https://localhost:8080/"
        },
        "id": "8aOuW0iKrw6p",
        "outputId": "fdf516c2-5e8b-40f1-ac03-e9e0b4b74f36"
      },
      "execution_count": 8,
      "outputs": [
        {
          "output_type": "stream",
          "name": "stdout",
          "text": [
            "Enter a word: hello\n",
            "Modified word: h$l$o\n"
          ]
        }
      ]
    },
    {
      "cell_type": "markdown",
      "source": [
        "##Write a program to read a sentence. Print all capital letters first, then small letters, then digits, and at last special characters. Print it as a new word."
      ],
      "metadata": {
        "id": "DJn5Ey8bsE2U"
      }
    },
    {
      "cell_type": "code",
      "source": [
        "# Input a sentence from the user\n",
        "sentence = input(\"Enter a sentence: \")\n",
        "\n",
        "# Initialize separate strings for each category\n",
        "capital_letters = \"\"\n",
        "small_letters = \"\"\n",
        "digits = \"\"\n",
        "special_characters = \"\"\n",
        "\n",
        "# Iterate through each character in the sentence\n",
        "for char in sentence:\n",
        "    if char.isupper():\n",
        "        capital_letters += char\n",
        "    elif char.islower():\n",
        "        small_letters += char\n",
        "    elif char.isdigit():\n",
        "        digits += char\n",
        "    else:\n",
        "        special_characters += char\n",
        "\n",
        "# Concatenate all categories into a new word\n",
        "new_word = capital_letters + small_letters + digits + special_characters\n",
        "\n",
        "# Display the result\n",
        "print(f\"New word: {new_word}\")\n"
      ],
      "metadata": {
        "colab": {
          "base_uri": "https://localhost:8080/"
        },
        "id": "0ZlQ2Us4r92l",
        "outputId": "0de43166-f5ee-45dc-c0eb-be8b0e92f5b6"
      },
      "execution_count": 10,
      "outputs": [
        {
          "output_type": "stream",
          "name": "stdout",
          "text": [
            "Enter a sentence: Hello, my address is 23/19!\n",
            "New word: Hellomyaddressis2319,    /!\n"
          ]
        }
      ]
    },
    {
      "cell_type": "markdown",
      "source": [
        "##Write a program to input a sentence. Frame a new sentence with the last word first and then the first word. Print it in capital letters. Eg: Input : Exam is Easy Output : EASY EXAM."
      ],
      "metadata": {
        "id": "AuTbd8ZEsZ4C"
      }
    },
    {
      "cell_type": "code",
      "source": [
        "# Input a sentence from the user\n",
        "sentence = input(\"Enter a sentence: \")\n",
        "\n",
        "# Split the sentence into words\n",
        "words = sentence.split()\n",
        "\n",
        "# Get the last and first words\n",
        "last_word = words[-1]\n",
        "first_word = words[0]\n",
        "\n",
        "# Frame the new sentence and convert it to uppercase\n",
        "new_sentence = f\"{last_word} {first_word}\".upper()\n",
        "\n",
        "# Display the result\n",
        "print(f\"New sentence: {new_sentence}\")\n"
      ],
      "metadata": {
        "colab": {
          "base_uri": "https://localhost:8080/"
        },
        "id": "ceFNZ0kXsKrR",
        "outputId": "2980efa0-e51b-461a-aba6-0d84685b121a"
      },
      "execution_count": 11,
      "outputs": [
        {
          "output_type": "stream",
          "name": "stdout",
          "text": [
            "Enter a sentence: Hello how are you\n",
            "New sentence: YOU HELLO\n"
          ]
        }
      ]
    },
    {
      "cell_type": "markdown",
      "source": [
        "##Write a program to input a word and display it in PIGLATIN form. (The first vowel occurring in the input word is placed at the start of the new word along with the remaining alphabets of it. The alphabets present before the first vowel ia shifted at the end of the new word, followed by ”ay”.) Eg: Input = PARIS Output = ARISPay Input = amazon Output = amazonay"
      ],
      "metadata": {
        "id": "uouX_9MJsoGi"
      }
    },
    {
      "cell_type": "code",
      "source": [
        "# Function to convert a word into Pig Latin\n",
        "def to_piglatin(word):\n",
        "    # Vowels to check for the first vowel\n",
        "    vowels = \"AEIOUaeiou\"\n",
        "\n",
        "    # Find the first vowel in the word\n",
        "    for i in range(len(word)):\n",
        "        if word[i] in vowels:\n",
        "            # Split the word at the first vowel\n",
        "            first_part = word[i:]\n",
        "            second_part = word[:i]\n",
        "            piglatin_word = first_part + second_part + \"ay\"\n",
        "            return piglatin_word\n",
        "\n",
        "    # If no vowel found, return the word as is with 'ay' (edge case)\n",
        "    return word + \"ay\"\n",
        "\n",
        "# Input a word from the user\n",
        "word = input(\"Enter a word: \")\n",
        "\n",
        "# Convert the word to Pig Latin\n",
        "piglatin_word = to_piglatin(word)\n",
        "\n",
        "# Display the result\n",
        "print(f\"Pig Latin: {piglatin_word}\")\n"
      ],
      "metadata": {
        "colab": {
          "base_uri": "https://localhost:8080/"
        },
        "id": "-wzscjkssg-w",
        "outputId": "63ce2a9b-0f7c-4ff8-ad8a-66e7bcd1c4f2"
      },
      "execution_count": 17,
      "outputs": [
        {
          "output_type": "stream",
          "name": "stdout",
          "text": [
            "Enter a word: AMAZON\n",
            "Pig Latin: AMAZONay\n"
          ]
        }
      ]
    },
    {
      "cell_type": "markdown",
      "source": [
        "##Write a program to input a word and print it in the pattern as shown below.\n",
        "eg: For PIZZA, print like below:\n",
        "A\n",
        "ZZ\n",
        "ZZZ\n",
        "IIII\n",
        "PPPPP"
      ],
      "metadata": {
        "id": "XphOl5QvtVXY"
      }
    },
    {
      "cell_type": "code",
      "source": [
        "# Input a word from the user\n",
        "word = input(\"Enter a word: \")\n",
        "\n",
        "# Loop through each character in the word starting from the last one\n",
        "for i in range(len(word)):\n",
        "    # Print the character (i+1) times\n",
        "    print(word[len(word)-1-i] * (i + 1))\n"
      ],
      "metadata": {
        "colab": {
          "base_uri": "https://localhost:8080/"
        },
        "id": "gb2QvscNsxEP",
        "outputId": "c3f3842a-6dab-43d2-97f4-4d7c37d861af"
      },
      "execution_count": 14,
      "outputs": [
        {
          "output_type": "stream",
          "name": "stdout",
          "text": [
            "Enter a word: PIZZA\n",
            "A\n",
            "ZZ\n",
            "ZZZ\n",
            "IIII\n",
            "PPPPP\n"
          ]
        }
      ]
    },
    {
      "cell_type": "code",
      "source": [],
      "metadata": {
        "id": "SyvEiagVtXtL"
      },
      "execution_count": null,
      "outputs": []
    }
  ]
}