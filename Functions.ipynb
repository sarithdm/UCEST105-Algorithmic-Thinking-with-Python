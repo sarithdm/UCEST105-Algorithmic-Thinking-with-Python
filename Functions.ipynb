{
  "nbformat": 4,
  "nbformat_minor": 0,
  "metadata": {
    "colab": {
      "provenance": []
    },
    "kernelspec": {
      "name": "python3",
      "display_name": "Python 3"
    },
    "language_info": {
      "name": "python"
    }
  },
  "cells": [
    {
      "cell_type": "markdown",
      "source": [
        "###What is the output of the below code? What is the output of the above code if the function call is edited as outer_function(False)?"
      ],
      "metadata": {
        "id": "6onRoFUeiIpF"
      }
    },
    {
      "cell_type": "code",
      "source": [
        "x = 10\n",
        "def outer_function(modify=True):\n",
        "    global x\n",
        "    y = 20\n",
        "\n",
        "    def inner_function():\n",
        "        global x\n",
        "        x = x + y\n",
        "        return x\n",
        "\n",
        "    if modify:\n",
        "        inner_function()\n",
        "    else:\n",
        "        x = inner_function() + 10\n",
        "\n",
        "    return x\n",
        "\n",
        "print(outer_function())\n"
      ],
      "metadata": {
        "colab": {
          "base_uri": "https://localhost:8080/"
        },
        "id": "9PFeSA5uhn7k",
        "outputId": "2dac9fec-fd44-43d1-95f8-6910c5a37248"
      },
      "execution_count": 1,
      "outputs": [
        {
          "output_type": "stream",
          "name": "stdout",
          "text": [
            "30\n"
          ]
        }
      ]
    },
    {
      "cell_type": "code",
      "source": [
        "  x = 10\n",
        "def outer_function(modify=False):\n",
        "    global x\n",
        "    y = 20\n",
        "\n",
        "    def inner_function():\n",
        "        global x\n",
        "        x = x + y\n",
        "        return x\n",
        "\n",
        "    if modify:\n",
        "        inner_function()\n",
        "    else:\n",
        "        x = inner_function() + 10\n",
        "\n",
        "    return x\n",
        "\n",
        "print(outer_function())\n"
      ],
      "metadata": {
        "colab": {
          "base_uri": "https://localhost:8080/"
        },
        "id": "kRR4OoZshoNO",
        "outputId": "b15d9045-491d-4542-cdbb-f9d9b155f237"
      },
      "execution_count": 2,
      "outputs": [
        {
          "output_type": "stream",
          "name": "stdout",
          "text": [
            "40\n"
          ]
        }
      ]
    },
    {
      "cell_type": "markdown",
      "source": [
        "###Write a program to input a number and find if it’s a twisted prime or not. (A number is said to be twisted prime if it is a prime number and its reverse is also prime. Eg: 97 is a twisted prime number)"
      ],
      "metadata": {
        "id": "qPNe5-WiiA-d"
      }
    },
    {
      "cell_type": "code",
      "source": [
        "# Function to check if a number is prime\n",
        "def is_prime(n):\n",
        "    if n <= 1:\n",
        "        return False\n",
        "    for i in range(2, int(n ** 0.5) + 1):\n",
        "        if n % i == 0:\n",
        "            return False\n",
        "    return True\n",
        "\n",
        "# Function to check if a number is twisted prime\n",
        "def is_twisted_prime(num):\n",
        "    if not is_prime(num):  # Check if the number itself is prime\n",
        "        return False\n",
        "    reversed_num = int(str(num)[::-1])  # Reverse the number\n",
        "    return is_prime(reversed_num)  # Check if the reversed number is prime\n",
        "\n",
        "# Input from the user\n",
        "number = int(input(\"Enter a number: \"))\n",
        "\n",
        "# Check and print if the number is twisted prime\n",
        "if is_twisted_prime(number):\n",
        "    print(f\"{number} is a twisted prime number.\")\n",
        "else:\n",
        "    print(f\"{number} is NOT a twisted prime number.\")\n"
      ],
      "metadata": {
        "colab": {
          "base_uri": "https://localhost:8080/"
        },
        "id": "jDCUrQBahqrt",
        "outputId": "c5d1362f-a028-4cef-9ee7-f404d7576cd6"
      },
      "execution_count": 3,
      "outputs": [
        {
          "output_type": "stream",
          "name": "stdout",
          "text": [
            "Enter a number: 97\n",
            "97 is a twisted prime number.\n"
          ]
        }
      ]
    },
    {
      "cell_type": "markdown",
      "source": [
        "###Write a program to print the prime factors of a number. (Use a method isPrime() to check primality)."
      ],
      "metadata": {
        "id": "A7JIKojCh9O3"
      }
    },
    {
      "cell_type": "code",
      "source": [
        "# Function to check if a number is prime\n",
        "def isPrime(n):\n",
        "    if n <= 1:\n",
        "        return False\n",
        "    for i in range(2, int(n ** 0.5) + 1):\n",
        "        if n % i == 0:\n",
        "            return False\n",
        "    return True\n",
        "\n",
        "# Function to print prime factors of a number\n",
        "def prime_factors(num):\n",
        "    factors = []\n",
        "    for i in range(2, num + 1):  # Start from 2 (smallest prime number)\n",
        "        while num % i == 0 and isPrime(i):  # Check if i is a factor and prime\n",
        "            factors.append(i)  # Add to the list of factors\n",
        "            num //= i  # Divide the number by i\n",
        "    return factors\n",
        "\n",
        "# Input from the user\n",
        "number = int(input(\"Enter a number: \"))\n",
        "\n",
        "# Get and print prime factors\n",
        "if number <= 1:\n",
        "    print(f\"No prime factors for {number}.\")\n",
        "else:\n",
        "    factors = prime_factors(number)\n",
        "    print(f\"Prime factors of {number} are: {factors}\")\n"
      ],
      "metadata": {
        "colab": {
          "base_uri": "https://localhost:8080/"
        },
        "id": "lcGFKfUihzJN",
        "outputId": "caf445f5-84f3-43e1-8f3d-fc5ad3bd9564"
      },
      "execution_count": 7,
      "outputs": [
        {
          "output_type": "stream",
          "name": "stdout",
          "text": [
            "Enter a number: 68\n",
            "Prime factors of 68 are: [2, 2, 17]\n"
          ]
        }
      ]
    },
    {
      "cell_type": "markdown",
      "source": [
        "###Write a program to implement these formulae for permutations and combinations.\n",
        "The Number of permutations of n objects taken r at a time: p(n, r) = n!/(n − r)!.\n",
        "\n",
        "The Number of combinations of n objects taken r at a time is:c(n, r) = n!/(r! ∗ (n − r)!)"
      ],
      "metadata": {
        "id": "ZID_9huWifqv"
      }
    },
    {
      "cell_type": "code",
      "source": [
        "# Function to calculate factorial\n",
        "def factorial(num):\n",
        "    if num == 0 or num == 1:\n",
        "        return 1\n",
        "    return num * factorial(num - 1)\n",
        "\n",
        "# Function to calculate permutations\n",
        "def permutations(n, r):\n",
        "    return factorial(n) // factorial(n - r)\n",
        "\n",
        "# Function to calculate combinations\n",
        "def combinations(n, r):\n",
        "    return factorial(n) // (factorial(r) * factorial(n - r))\n",
        "\n",
        "# Input from the user\n",
        "n = int(input(\"Enter the value of n (total objects): \"))\n",
        "r = int(input(\"Enter the value of r (chosen objects): \"))\n",
        "\n",
        "# Validate input\n",
        "if r > n or n < 0 or r < 0:\n",
        "    print(\"Invalid input! Ensure that 0 <= r <= n.\")\n",
        "else:\n",
        "    # Calculate permutations and combinations\n",
        "    perm = permutations(n, r)\n",
        "    comb = combinations(n, r)\n",
        "\n",
        "    # Output the results\n",
        "    print(f\"Permutations P({n}, {r}) = {perm}\")\n",
        "    print(f\"Combinations C({n}, {r}) = {comb}\")\n"
      ],
      "metadata": {
        "colab": {
          "base_uri": "https://localhost:8080/"
        },
        "id": "0hNU0XHeh5bZ",
        "outputId": "60aea271-10d2-44bc-f1e4-16adac1e0b64"
      },
      "execution_count": 8,
      "outputs": [
        {
          "output_type": "stream",
          "name": "stdout",
          "text": [
            "Enter the value of n (total objects): 4\n",
            "Enter the value of r (chosen objects): 2\n",
            "Permutations P(4, 2) = 12\n",
            "Combinations C(4, 2) = 6\n"
          ]
        }
      ]
    },
    {
      "cell_type": "markdown",
      "source": [
        "###Generate and print Pascal’s Triangle up to a specified number of rows.\n",
        "Pascal’s Triangle is a triangular array where each number is the sum of\n",
        "the two numbers directly above it.\n",
        "HINT:Use the concept of permutation combination to obtain the sequence\n",
        "of the rows"
      ],
      "metadata": {
        "id": "lY1efHnTi9jP"
      }
    },
    {
      "cell_type": "code",
      "source": [
        "import math\n",
        "\n",
        "def generate_pascals_triangle(rows):\n",
        "    triangle = []\n",
        "\n",
        "    for n in range(rows):\n",
        "        row = []\n",
        "        for r in range(n + 1):\n",
        "            # Compute the binomial coefficient C(n, r)\n",
        "            value = math.comb(n, r)\n",
        "            row.append(value)\n",
        "        triangle.append(row)\n",
        "\n",
        "    return triangle\n",
        "\n",
        "def print_pascals_triangle(triangle):\n",
        "    for row in triangle:\n",
        "        print(\" \".join(map(str, row)).center(2 * len(triangle[-1])))\n",
        "\n",
        "# Specify the number of rows\n",
        "rows = int(input(\"Enter the number of rows: \"))\n",
        "triangle = generate_pascals_triangle(rows)\n",
        "print_pascals_triangle(triangle)\n"
      ],
      "metadata": {
        "colab": {
          "base_uri": "https://localhost:8080/"
        },
        "id": "Q3I5dQ_ki5NF",
        "outputId": "8022a059-0cd8-4c29-d96f-2c1fea68543b"
      },
      "execution_count": 9,
      "outputs": [
        {
          "output_type": "stream",
          "name": "stdout",
          "text": [
            "Enter the number of rows: 5\n",
            "    1     \n",
            "   1 1    \n",
            "  1 2 1   \n",
            " 1 3 3 1  \n",
            "1 4 6 4 1 \n"
          ]
        }
      ]
    },
    {
      "cell_type": "code",
      "source": [],
      "metadata": {
        "id": "jDsF8wu4i6v4"
      },
      "execution_count": null,
      "outputs": []
    }
  ]
}