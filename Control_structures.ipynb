{
  "nbformat": 4,
  "nbformat_minor": 0,
  "metadata": {
    "colab": {
      "provenance": []
    },
    "kernelspec": {
      "name": "python3",
      "display_name": "Python 3"
    },
    "language_info": {
      "name": "python"
    }
  },
  "cells": [
    {
      "cell_type": "markdown",
      "source": [
        "#Selection statements"
      ],
      "metadata": {
        "id": "WFFgrJzo_8Ye"
      }
    },
    {
      "cell_type": "markdown",
      "source": [
        "##One-way selection statement"
      ],
      "metadata": {
        "id": "png4anQUABpn"
      }
    },
    {
      "cell_type": "markdown",
      "source": [
        "if statement, also known as conditional execution"
      ],
      "metadata": {
        "id": "H0_lGvohALpp"
      }
    },
    {
      "cell_type": "code",
      "execution_count": 1,
      "metadata": {
        "colab": {
          "base_uri": "https://localhost:8080/"
        },
        "id": "rhW3j07C_yq2",
        "outputId": "328ea913-c06f-4c5c-ed74-6e727fba02ab"
      },
      "outputs": [
        {
          "output_type": "stream",
          "name": "stdout",
          "text": [
            "10 is positive\n"
          ]
        }
      ],
      "source": [
        "x=10\n",
        "if x>0:\n",
        "  print(x,\"is positive\")"
      ]
    },
    {
      "cell_type": "markdown",
      "source": [
        "It is possible to combine multiple conditions using logical operators"
      ],
      "metadata": {
        "id": "QPF4n-fDAPbi"
      }
    },
    {
      "cell_type": "code",
      "source": [
        "x=int(input(\"Enter a number\"))\n",
        "if x > 0 and x < 10:\n",
        "  print(x,\"is a positive single digit.\")"
      ],
      "metadata": {
        "colab": {
          "base_uri": "https://localhost:8080/"
        },
        "id": "rcZeCED0AHs5",
        "outputId": "4b94d72e-396c-480f-dfcd-319b02c98e36"
      },
      "execution_count": 4,
      "outputs": [
        {
          "output_type": "stream",
          "name": "stdout",
          "text": [
            "Enter a number2\n",
            "2 is a positive single digit.\n"
          ]
        }
      ]
    },
    {
      "cell_type": "markdown",
      "source": [
        "Alternative syntax"
      ],
      "metadata": {
        "id": "d1CWkJlqAcnf"
      }
    },
    {
      "cell_type": "code",
      "source": [
        "if 0<x<10:\n",
        "  print(x,\"is a positive single digit.\")"
      ],
      "metadata": {
        "colab": {
          "base_uri": "https://localhost:8080/"
        },
        "id": "-3hP0YIwARSL",
        "outputId": "eb2f168b-3e29-40b4-d349-2b285727461b"
      },
      "execution_count": 5,
      "outputs": [
        {
          "output_type": "stream",
          "name": "stdout",
          "text": [
            "2 is a positive single digit.\n"
          ]
        }
      ]
    },
    {
      "cell_type": "markdown",
      "source": [
        "##Two-way selection statement"
      ],
      "metadata": {
        "id": "qcOyLVmmAk_0"
      }
    },
    {
      "cell_type": "code",
      "source": [
        "age=int(input(\"Enter age\"))\n",
        "if age>=18:\n",
        "  print(\"Major\")\n",
        "else:\n",
        "  print(\"Minor\")"
      ],
      "metadata": {
        "colab": {
          "base_uri": "https://localhost:8080/"
        },
        "id": "oo3K6tnfAh3-",
        "outputId": "0d9c9468-7777-4b09-dea9-335c9fa78af9"
      },
      "execution_count": 6,
      "outputs": [
        {
          "output_type": "stream",
          "name": "stdout",
          "text": [
            "Enter age20\n",
            "Major\n"
          ]
        }
      ]
    },
    {
      "cell_type": "markdown",
      "source": [
        "##Multi-way selection statement"
      ],
      "metadata": {
        "id": "hoN3ebDwAzRz"
      }
    },
    {
      "cell_type": "markdown",
      "source": [
        "The multi-way if statement is called chained conditional execution."
      ],
      "metadata": {
        "id": "oBC7c9lNBEr0"
      }
    },
    {
      "cell_type": "code",
      "source": [
        "x=10\n",
        "y=5\n",
        "if x < y:\n",
        "  print(x, \"is less than\", y)\n",
        "elif x > y:\n",
        "  print(x, \"is greater than\", y)\n",
        "else:\n",
        "  print(x, \"and\", y, \"are equal\")"
      ],
      "metadata": {
        "colab": {
          "base_uri": "https://localhost:8080/"
        },
        "id": "WHjU-INiAvib",
        "outputId": "fa2ad3a3-8ba2-47f7-a2fe-b8c667948070"
      },
      "execution_count": 7,
      "outputs": [
        {
          "output_type": "stream",
          "name": "stdout",
          "text": [
            "10 is greater than 5\n"
          ]
        }
      ]
    },
    {
      "cell_type": "markdown",
      "source": [
        "#Repetition statements or loops"
      ],
      "metadata": {
        "id": "DVJfQixrBI1i"
      }
    },
    {
      "cell_type": "markdown",
      "source": [
        "Python supports two types of loops – those that repeat an action a fixed number\n",
        "of times (definite iteration) and those that act until a condition becomes false\n",
        "(conditional iteration)."
      ],
      "metadata": {
        "id": "_nC3TNs0Bd7X"
      }
    },
    {
      "cell_type": "markdown",
      "source": [
        "##Definite iteration: The for loop\n",
        "Loops that count through a range of numbers are called count-controlled\n",
        "loops."
      ],
      "metadata": {
        "id": "UC1lqav2BgoW"
      }
    },
    {
      "cell_type": "code",
      "source": [
        "for i in range(5):\n",
        "  print(i)"
      ],
      "metadata": {
        "colab": {
          "base_uri": "https://localhost:8080/"
        },
        "id": "XgFIriZjBCW2",
        "outputId": "b24a89ff-1ed2-4aa4-cfdf-858c6cfa64da"
      },
      "execution_count": 9,
      "outputs": [
        {
          "output_type": "stream",
          "name": "stdout",
          "text": [
            "0\n",
            "1\n",
            "2\n",
            "3\n",
            "4\n"
          ]
        }
      ]
    },
    {
      "cell_type": "code",
      "source": [
        "for i in range(5):\n",
        "  print(\"Hello\")"
      ],
      "metadata": {
        "colab": {
          "base_uri": "https://localhost:8080/"
        },
        "id": "SrIAtMCzBoUS",
        "outputId": "02aa543c-8676-4e94-9896-f1ba216091bb"
      },
      "execution_count": 10,
      "outputs": [
        {
          "output_type": "stream",
          "name": "stdout",
          "text": [
            "Hello\n",
            "Hello\n",
            "Hello\n",
            "Hello\n",
            "Hello\n"
          ]
        }
      ]
    },
    {
      "cell_type": "markdown",
      "source": [
        "By using end =\n",
        "\" \", the Python interpreter will append whitespace following the count value,\n",
        "instead of the default newline character ('\\n')"
      ],
      "metadata": {
        "id": "QYrCzUFKB0oN"
      }
    },
    {
      "cell_type": "code",
      "source": [
        "for i in range(5):\n",
        "  print(i,end=\" \")"
      ],
      "metadata": {
        "colab": {
          "base_uri": "https://localhost:8080/"
        },
        "id": "V6pRdEsmBlVX",
        "outputId": "68881869-dbc0-4ca9-e82e-5ca1663fc850"
      },
      "execution_count": 12,
      "outputs": [
        {
          "output_type": "stream",
          "name": "stdout",
          "text": [
            "0 1 2 3 4 "
          ]
        }
      ]
    },
    {
      "cell_type": "markdown",
      "source": [
        "To count from an explicit\n",
        "lower bound, you need to include it as part of the range function."
      ],
      "metadata": {
        "id": "2JHE7ifmCCAT"
      }
    },
    {
      "cell_type": "code",
      "source": [
        "for count in range(1,11):\n",
        "  print(count,end=\" \")"
      ],
      "metadata": {
        "colab": {
          "base_uri": "https://localhost:8080/"
        },
        "id": "yPMlsGO2Bv39",
        "outputId": "62e4a60e-ef1d-438c-ee98-06548a294510"
      },
      "execution_count": 14,
      "outputs": [
        {
          "output_type": "stream",
          "name": "stdout",
          "text": [
            "1 2 3 4 5 6 7 8 9 10 "
          ]
        }
      ]
    },
    {
      "cell_type": "markdown",
      "source": [
        "Python provides a third variant of the for loop that allows to count\n",
        "in a non-consecutive fashion. For this, you need to explicitly mention the step\n",
        "size in the range function."
      ],
      "metadata": {
        "id": "vdX0TomcCG3w"
      }
    },
    {
      "cell_type": "code",
      "source": [
        "for i in range(4,21,2):\n",
        "  print(i,end=\" \")"
      ],
      "metadata": {
        "colab": {
          "base_uri": "https://localhost:8080/"
        },
        "id": "SLBAeyd3CAH1",
        "outputId": "f8c8fe06-6e00-4597-8978-7d824a1b3ae0"
      },
      "execution_count": 15,
      "outputs": [
        {
          "output_type": "stream",
          "name": "stdout",
          "text": [
            "4 6 8 10 12 14 16 18 20 "
          ]
        }
      ]
    },
    {
      "cell_type": "markdown",
      "source": [
        "When the step size is negative, the loop variable is decremented by that amount\n",
        "in each iteration\n",
        "The following code displays numbers from 10 down to 1."
      ],
      "metadata": {
        "id": "K2Hrref-COce"
      }
    },
    {
      "cell_type": "code",
      "source": [
        "for count in range(10,0,-1):\n",
        "  print(count,end=\" \")"
      ],
      "metadata": {
        "colab": {
          "base_uri": "https://localhost:8080/"
        },
        "id": "_t7yt83nCJ0F",
        "outputId": "22d3fab0-5409-4adc-e768-0b83eeb6b29b"
      },
      "execution_count": 16,
      "outputs": [
        {
          "output_type": "stream",
          "name": "stdout",
          "text": [
            "10 9 8 7 6 5 4 3 2 1 "
          ]
        }
      ]
    },
    {
      "cell_type": "markdown",
      "source": [
        "##Conditional Iteration: The while loop"
      ],
      "metadata": {
        "id": "l9CnqJ-ECixE"
      }
    },
    {
      "cell_type": "markdown",
      "source": [
        "Conditional iteration requires that a condition be tested within the loop to\n",
        "determine whether the loop should continue."
      ],
      "metadata": {
        "id": "YHoRrVGCCplv"
      }
    },
    {
      "cell_type": "code",
      "source": [
        "i=1\n",
        "while i<=10:\n",
        "  print(i,end=\" \")\n",
        "  i=i+1"
      ],
      "metadata": {
        "colab": {
          "base_uri": "https://localhost:8080/"
        },
        "id": "B4cQekQVCRBg",
        "outputId": "877f4edb-1644-47fc-cf14-9250cad3eec5"
      },
      "execution_count": 17,
      "outputs": [
        {
          "output_type": "stream",
          "name": "stdout",
          "text": [
            "1 2 3 4 5 6 7 8 9 10 "
          ]
        }
      ]
    },
    {
      "cell_type": "markdown",
      "source": [
        "There is no exit-controlled loop in Python, but you can modify the\n",
        "while loop to achieve the same functionality"
      ],
      "metadata": {
        "id": "DX-ICLPTCzUg"
      }
    },
    {
      "cell_type": "markdown",
      "source": [
        "##Nested loops"
      ],
      "metadata": {
        "id": "j5o2UAffC7NJ"
      }
    },
    {
      "cell_type": "code",
      "source": [
        "for i in range(1,5): #This is the outer loop\n",
        "  for j in range(1,5): #This is the inner loop\n",
        "    print(j, end=\" \")\n",
        "  print()"
      ],
      "metadata": {
        "colab": {
          "base_uri": "https://localhost:8080/"
        },
        "id": "wNbkIXmQCwE8",
        "outputId": "61ea7e41-2b07-4e95-9a50-c7f458b66998"
      },
      "execution_count": 18,
      "outputs": [
        {
          "output_type": "stream",
          "name": "stdout",
          "text": [
            "1 2 3 4 \n",
            "1 2 3 4 \n",
            "1 2 3 4 \n",
            "1 2 3 4 \n"
          ]
        }
      ]
    },
    {
      "cell_type": "markdown",
      "source": [
        "##Loop control statements"
      ],
      "metadata": {
        "id": "0aEfntpYDNds"
      }
    },
    {
      "cell_type": "markdown",
      "source": [
        "###break statement"
      ],
      "metadata": {
        "id": "RZA9NXPJDQ2T"
      }
    },
    {
      "cell_type": "markdown",
      "source": [
        "The break statement is used to terminate loops. Any statements inside the\n",
        "loop following the break will be neglected, and the control goes out of the loop.\n",
        "break stops the current iteration and skips the succeeding iterations (if any)\n",
        "and passes the control to the first statement following (outside) the loop."
      ],
      "metadata": {
        "id": "6B6ZyE_cDVeU"
      }
    },
    {
      "cell_type": "code",
      "source": [
        "for num in range(1,5):\n",
        "  if num%2==0:\n",
        "    print(num,\"is even\")\n",
        "    break\n",
        "  print(\"The number is\",num)\n",
        "print(\"Outside the loop\")"
      ],
      "metadata": {
        "colab": {
          "base_uri": "https://localhost:8080/"
        },
        "id": "mp4-A1cRDDTg",
        "outputId": "548f1848-64e3-4139-ece8-3272ca754726"
      },
      "execution_count": 19,
      "outputs": [
        {
          "output_type": "stream",
          "name": "stdout",
          "text": [
            "The number is 1\n",
            "2 is even\n",
            "Outside the loop\n"
          ]
        }
      ]
    },
    {
      "cell_type": "markdown",
      "source": [
        "###continue statement"
      ],
      "metadata": {
        "id": "jC5q2S9pDhqu"
      }
    },
    {
      "cell_type": "markdown",
      "source": [
        "The continue statement is used to bypass the remainder of the current iteration\n",
        "through a loop. The loop does not terminate when a continue statement is\n",
        "encountered. Rather, the remaining loop statements are skipped and the control\n",
        "proceeds directly to the next pass through the loop."
      ],
      "metadata": {
        "id": "KLlMvD_REBZi"
      }
    },
    {
      "cell_type": "code",
      "source": [
        "for num in range(1,5):\n",
        "  if num%2==0:\n",
        "    print(num,\"is even\")\n",
        "    continue\n",
        "  print(\"The number is\",num)\n",
        "print(\"Outside the loop\")"
      ],
      "metadata": {
        "colab": {
          "base_uri": "https://localhost:8080/"
        },
        "id": "hlc2UubDDbJ4",
        "outputId": "cfed54fc-8304-4589-e1f4-89e8ecd86b67"
      },
      "execution_count": 22,
      "outputs": [
        {
          "output_type": "stream",
          "name": "stdout",
          "text": [
            "The number is 1\n",
            "2 is even\n",
            "The number is 3\n",
            "4 is even\n",
            "Outside the loop\n"
          ]
        }
      ]
    },
    {
      "cell_type": "markdown",
      "source": [
        "###pass statement"
      ],
      "metadata": {
        "id": "9Aj0AUKqDysw"
      }
    },
    {
      "cell_type": "markdown",
      "source": [
        "The pass statement is equivalent to the statement “Do nothing”. It can be used\n",
        "when a statement is required syntactically but the program requires no action.\n",
        "Nothing happens when pass is executed"
      ],
      "metadata": {
        "id": "T7-UUEEnD9fQ"
      }
    },
    {
      "cell_type": "code",
      "source": [
        "for num in range(1,5):\n",
        "  if num%2==0:\n",
        "    print(num,\"is even\")\n",
        "    pass\n",
        "  print(\"The number is\",num)\n",
        "print(\"Outside the loop\")"
      ],
      "metadata": {
        "colab": {
          "base_uri": "https://localhost:8080/"
        },
        "id": "r4RQcEIPDp2D",
        "outputId": "f8a0b7c2-3631-4a22-eebc-bd27d28f09e7"
      },
      "execution_count": 23,
      "outputs": [
        {
          "output_type": "stream",
          "name": "stdout",
          "text": [
            "The number is 1\n",
            "2 is even\n",
            "The number is 2\n",
            "The number is 3\n",
            "4 is even\n",
            "The number is 4\n",
            "Outside the loop\n"
          ]
        }
      ]
    },
    {
      "cell_type": "markdown",
      "source": [
        "#Exercises"
      ],
      "metadata": {
        "id": "KkY-pcybFT9X"
      }
    },
    {
      "cell_type": "markdown",
      "source": [
        "Recall from your Chemistry classes that aqueous solutions with a pH value\n",
        "less than 7 are acidic, solutions with a pH value greater than 7 are basic\n",
        "and those with pH equal to 7 are neutral. Write a Python program to determine\n",
        "whether a solution is acidic, basic, or neutral given its pH value."
      ],
      "metadata": {
        "id": "xwOIGoXsFWAc"
      }
    },
    {
      "cell_type": "code",
      "source": [
        "def determine_solution_type(pH_value):\n",
        "    if pH_value < 7:\n",
        "        return \"Acidic\"\n",
        "    elif pH_value > 7:\n",
        "        return \"Basic\"\n",
        "    else:\n",
        "        return \"Neutral\"\n",
        "\n",
        "# Input: Get the pH value from the user\n",
        "pH_value = float(input(\"Enter the pH value of the solution: \"))\n",
        "\n",
        "# Check if the pH value is within a valid range\n",
        "if 0 <= pH_value <= 14:\n",
        "    result = determine_solution_type(pH_value)\n",
        "    print(f\"The solution is {result}.\")\n",
        "else:\n",
        "    print(\"Invalid pH value! Please enter a value between 0 and 14.\")\n"
      ],
      "metadata": {
        "colab": {
          "base_uri": "https://localhost:8080/"
        },
        "id": "wNB1SB9ED1qN",
        "outputId": "327d5f94-bee8-436b-c3f3-0cebd1655f1d"
      },
      "execution_count": 25,
      "outputs": [
        {
          "output_type": "stream",
          "name": "stdout",
          "text": [
            "Enter the pH value of the solution: 8\n",
            "The solution is Basic.\n"
          ]
        }
      ]
    },
    {
      "cell_type": "markdown",
      "source": [
        "The Population of a town today is 1,00,000. The population has increased\n",
        "steadily at the rate of 10 percent per year for the last 10 years. Write a\n",
        "program to determine the population at the end of each year in the last\n",
        "decade."
      ],
      "metadata": {
        "id": "OImRTDg9Finy"
      }
    },
    {
      "cell_type": "code",
      "source": [
        "# Initial population\n",
        "current_population = 100000\n",
        "growth_rate = 10  # 10 percent per year\n",
        "\n",
        "print(\"Year\\tPopulation\")\n",
        "print(\"-----------------\")\n",
        "\n",
        "# Calculate and display the population for the last 10 years\n",
        "for year in range(10, 0, -1):  # From 10 years ago to 1 year ago\n",
        "    previous_population = current_population / (1 + growth_rate / 100)\n",
        "    print(f\"{2024 - year}\\t{int(previous_population)}\")\n",
        "    current_population = previous_population\n"
      ],
      "metadata": {
        "colab": {
          "base_uri": "https://localhost:8080/"
        },
        "id": "1eVbOu2eFSdq",
        "outputId": "c5d0afb4-6baa-4e9d-b2d5-504dd11054fa"
      },
      "execution_count": 26,
      "outputs": [
        {
          "output_type": "stream",
          "name": "stdout",
          "text": [
            "Year\tPopulation\n",
            "-----------------\n",
            "2014\t90909\n",
            "2015\t82644\n",
            "2016\t75131\n",
            "2017\t68301\n",
            "2018\t62092\n",
            "2019\t56447\n",
            "2020\t51315\n",
            "2021\t46650\n",
            "2022\t42409\n",
            "2023\t38554\n"
          ]
        }
      ]
    },
    {
      "cell_type": "markdown",
      "source": [
        "Write a program to display alternate prime numbers till N (obtain N from\n",
        "the user)."
      ],
      "metadata": {
        "id": "8UUGiarbF3DO"
      }
    },
    {
      "cell_type": "code",
      "source": [
        "def is_prime(num):\n",
        "    \"\"\"Check if a number is prime.\"\"\"\n",
        "    if num < 2:\n",
        "        return False\n",
        "    for i in range(2, int(num**0.5) + 1):\n",
        "        if num % i == 0:\n",
        "            return False\n",
        "    return True\n",
        "\n",
        "def display_alternate_primes(N):\n",
        "    \"\"\"Display alternate prime numbers up to N.\"\"\"\n",
        "    count = 0  # Counter to keep track of alternate primes\n",
        "    print(\"Alternate prime numbers up to\", N, \"are:\")\n",
        "    for num in range(2, N + 1):\n",
        "        if is_prime(num):\n",
        "            if count % 2 == 0:  # Display only alternate primes\n",
        "                print(num, end=\" \")\n",
        "            count += 1\n",
        "    print()  # For a clean newline after output\n",
        "\n",
        "# Input: Get N from the user\n",
        "N = int(input(\"Enter the value of N: \"))\n",
        "\n",
        "# Display alternate primes\n",
        "display_alternate_primes(N)\n"
      ],
      "metadata": {
        "colab": {
          "base_uri": "https://localhost:8080/"
        },
        "id": "XyAYyn7EFp1h",
        "outputId": "4822b904-052a-4c9f-e9c5-fd0dd37f39cf"
      },
      "execution_count": 27,
      "outputs": [
        {
          "output_type": "stream",
          "name": "stdout",
          "text": [
            "Enter the value of N: 9\n",
            "Alternate prime numbers up to 9 are:\n",
            "2 5 \n"
          ]
        }
      ]
    },
    {
      "cell_type": "markdown",
      "source": [
        "Write a program for a number guessing game. The user must have only\n",
        "limited attempts at guessing the number, and for every guess, a hint can\n",
        "be provided to the user. For example, if the user guesses 40, the program\n",
        "can give a hint to make the next guess higher or lower based on the correct\n",
        "answer."
      ],
      "metadata": {
        "id": "gs9d4cf-GW93"
      }
    },
    {
      "cell_type": "code",
      "source": [
        "import random\n",
        "\n",
        "def number_guessing_game():\n",
        "    # Generate a random number between 1 and 100\n",
        "    correct_number = random.randint(1, 100)\n",
        "    attempts = 5  # Set the number of attempts\n",
        "\n",
        "    print(\"Welcome to the Number Guessing Game!\")\n",
        "    print(\"I have chosen a number between 1 and 100.\")\n",
        "    print(f\"You have {attempts} attempts to guess the number.\")\n",
        "\n",
        "    for attempt in range(1, attempts + 1):\n",
        "        # Get the user's guess\n",
        "        guess = int(input(f\"Attempt {attempt}: Enter your guess: \"))\n",
        "\n",
        "        # Check the guess and provide hints\n",
        "        if guess == correct_number:\n",
        "            print(\"Congratulations! You guessed the correct number!\")\n",
        "            break\n",
        "        elif guess < correct_number:\n",
        "            print(\"Hint: Guess higher!\")\n",
        "        else:\n",
        "            print(\"Hint: Guess lower!\")\n",
        "\n",
        "        # Check if attempts are exhausted\n",
        "        if attempt == attempts:\n",
        "            print(f\"Sorry, you've used all your attempts. The correct number was {correct_number}.\")\n",
        "            break\n",
        "\n",
        "# Start the game\n",
        "number_guessing_game()\n"
      ],
      "metadata": {
        "colab": {
          "base_uri": "https://localhost:8080/"
        },
        "id": "ygSCIWiTGYSJ",
        "outputId": "a9b35d60-15f1-4d72-ca14-fa0b23234d3c"
      },
      "execution_count": 28,
      "outputs": [
        {
          "output_type": "stream",
          "name": "stdout",
          "text": [
            "Welcome to the Number Guessing Game!\n",
            "I have chosen a number between 1 and 100.\n",
            "You have 5 attempts to guess the number.\n",
            "Attempt 1: Enter your guess: 50\n",
            "Hint: Guess higher!\n",
            "Attempt 2: Enter your guess: 75\n",
            "Hint: Guess lower!\n",
            "Attempt 3: Enter your guess: 62\n",
            "Hint: Guess higher!\n",
            "Attempt 4: Enter your guess: 68\n",
            "Hint: Guess higher!\n",
            "Attempt 5: Enter your guess: 72\n",
            "Congratulations! You guessed the correct number!\n"
          ]
        }
      ]
    },
    {
      "cell_type": "markdown",
      "source": [
        "Write a program to compute and display the sum of all integers that are\n",
        "divisible by 6 but not by 4, and that lie below a user-given upper limit."
      ],
      "metadata": {
        "id": "jHAtuDWBHALf"
      }
    },
    {
      "cell_type": "code",
      "source": [
        "def compute_sum(limit):\n",
        "    \"\"\"Compute the sum of integers divisible by 6 but not by 4 below the limit.\"\"\"\n",
        "    total = 0\n",
        "    for num in range(6, limit, 6):  # Only consider numbers divisible by 6\n",
        "        if num % 4 != 0:  # Exclude numbers divisible by 4\n",
        "            total += num\n",
        "    return total\n",
        "\n",
        "# Input: Get the upper limit from the user\n",
        "upper_limit = int(input(\"Enter the upper limit: \"))\n",
        "\n",
        "# Compute and display the result\n",
        "result = compute_sum(upper_limit)\n",
        "print(f\"The sum of integers divisible by 6 but not by 4 below {upper_limit} is: {result}\")\n"
      ],
      "metadata": {
        "colab": {
          "base_uri": "https://localhost:8080/"
        },
        "id": "IuhvAo3iGIgO",
        "outputId": "c0564d51-d445-4c12-e823-6315ff527fca"
      },
      "execution_count": 29,
      "outputs": [
        {
          "output_type": "stream",
          "name": "stdout",
          "text": [
            "Enter the upper limit: 20\n",
            "The sum of integers divisible by 6 but not by 4 below 20 is: 24\n"
          ]
        }
      ]
    },
    {
      "cell_type": "markdown",
      "source": [
        "Calculate the sum of the digits of each number within a specified range\n",
        "(from 1 to a user-defined upper limit). Print the sum only if it is prime"
      ],
      "metadata": {
        "id": "M-ast7AxIoXx"
      }
    },
    {
      "cell_type": "code",
      "source": [
        "def is_prime(num):\n",
        "    \"\"\"Check if a number is prime.\"\"\"\n",
        "    if num < 2:\n",
        "        return False\n",
        "    for i in range(2, int(num**0.5) + 1):\n",
        "        if num % i == 0:\n",
        "            return False\n",
        "    return True\n",
        "\n",
        "def sum_of_digits(n):\n",
        "    \"\"\"Calculate the sum of the digits of a number.\"\"\"\n",
        "    return sum(int(digit) for digit in str(n))\n",
        "\n",
        "def prime_digit_sums(limit):\n",
        "    \"\"\"Print the sum of digits for each number within the range if it is prime.\"\"\"\n",
        "    print(f\"Prime digit sums from 1 to {limit}:\")\n",
        "    for num in range(1, limit + 1):\n",
        "        digit_sum = sum_of_digits(num)\n",
        "        if is_prime(digit_sum):\n",
        "            print(f\"Number: {num}, Sum of digits: {digit_sum} (Prime)\")\n",
        "\n",
        "# Input: Get the upper limit from the user\n",
        "upper_limit = int(input(\"Enter the upper limit: \"))\n",
        "\n",
        "# Display prime digit sums\n",
        "prime_digit_sums(upper_limit)\n"
      ],
      "metadata": {
        "colab": {
          "base_uri": "https://localhost:8080/"
        },
        "id": "brp-NKqRIeIQ",
        "outputId": "63ed7f6d-8957-42f2-8844-bfaf8b8bbf70"
      },
      "execution_count": 30,
      "outputs": [
        {
          "output_type": "stream",
          "name": "stdout",
          "text": [
            "Enter the upper limit: 30\n",
            "Prime digit sums from 1 to 30:\n",
            "Number: 2, Sum of digits: 2 (Prime)\n",
            "Number: 3, Sum of digits: 3 (Prime)\n",
            "Number: 5, Sum of digits: 5 (Prime)\n",
            "Number: 7, Sum of digits: 7 (Prime)\n",
            "Number: 11, Sum of digits: 2 (Prime)\n",
            "Number: 12, Sum of digits: 3 (Prime)\n",
            "Number: 14, Sum of digits: 5 (Prime)\n",
            "Number: 16, Sum of digits: 7 (Prime)\n",
            "Number: 20, Sum of digits: 2 (Prime)\n",
            "Number: 21, Sum of digits: 3 (Prime)\n",
            "Number: 23, Sum of digits: 5 (Prime)\n",
            "Number: 25, Sum of digits: 7 (Prime)\n",
            "Number: 29, Sum of digits: 11 (Prime)\n",
            "Number: 30, Sum of digits: 3 (Prime)\n"
          ]
        }
      ]
    },
    {
      "cell_type": "markdown",
      "source": [
        "Write a program to check whether a particular date (dd-mm-yyyy format)\n",
        "is valid. Those dates that lie in the range 01-01-1900 to 31-12-2050 are\n",
        "considered valid."
      ],
      "metadata": {
        "id": "QoX6wyoeI_7a"
      }
    },
    {
      "cell_type": "code",
      "source": [
        "from datetime import datetime\n",
        "\n",
        "def is_valid_date(date_str):\n",
        "    \"\"\"Check if a date is valid and within the specified range.\"\"\"\n",
        "    try:\n",
        "        # Parse the input date\n",
        "        date = datetime.strptime(date_str, \"%d-%m-%Y\")\n",
        "\n",
        "        # Define the valid range\n",
        "        start_date = datetime(1900, 1, 1)\n",
        "        end_date = datetime(2050, 12, 31)\n",
        "\n",
        "        # Check if the date is within the range\n",
        "        if start_date <= date <= end_date:\n",
        "            return True\n",
        "        else:\n",
        "            return False\n",
        "    except ValueError:\n",
        "        # Handle invalid date format or non-existent dates\n",
        "        return False\n",
        "\n",
        "# Input: Get the date from the user\n",
        "input_date = input(\"Enter a date (dd-mm-yyyy): \")\n",
        "\n",
        "# Check validity and display the result\n",
        "if is_valid_date(input_date):\n",
        "    print(f\"The date {input_date} is valid.\")\n",
        "else:\n",
        "    print(f\"The date {input_date} is invalid.\")\n"
      ],
      "metadata": {
        "colab": {
          "base_uri": "https://localhost:8080/"
        },
        "id": "lu4rW4cWItXV",
        "outputId": "e7f17ef1-1d24-4ea9-bd2a-40af5dc43874"
      },
      "execution_count": 31,
      "outputs": [
        {
          "output_type": "stream",
          "name": "stdout",
          "text": [
            "Enter a date (dd-mm-yyyy): 23-10-2024\n",
            "The date 23-10-2024 is valid.\n"
          ]
        }
      ]
    },
    {
      "cell_type": "markdown",
      "source": [
        "A number is input through the keyboard. Write a program to determine\n",
        "if it’s palindromic."
      ],
      "metadata": {
        "id": "9_4Qtu5GJDGD"
      }
    },
    {
      "cell_type": "code",
      "source": [
        "def is_palindrome(number):\n",
        "    \"\"\"Check if a number is palindromic without using string conversion.\"\"\"\n",
        "    original_number = number\n",
        "    reversed_number = 0\n",
        "\n",
        "    # Reverse the digits of the number\n",
        "    while number > 0:\n",
        "        digit = number % 10\n",
        "        reversed_number = reversed_number * 10 + digit\n",
        "        number = number // 10\n",
        "\n",
        "    # Check if the reversed number is equal to the original number\n",
        "    if original_number == reversed_number:\n",
        "        return True\n",
        "    else:\n",
        "        return False\n",
        "\n",
        "# Input: Get the number from the user\n",
        "num = int(input(\"Enter a number: \"))\n",
        "\n",
        "# Check and display the result\n",
        "if is_palindrome(num):\n",
        "    print(f\"The number {num} is palindromic.\")\n",
        "else:\n",
        "    print(f\"The number {num} is not palindromic.\")\n"
      ],
      "metadata": {
        "colab": {
          "base_uri": "https://localhost:8080/"
        },
        "id": "Fc00jjeyJNwo",
        "outputId": "6e455238-75ba-4393-fbc8-43997f1d933c"
      },
      "execution_count": 33,
      "outputs": [
        {
          "output_type": "stream",
          "name": "stdout",
          "text": [
            "Enter a number: 313\n",
            "The number 313 is palindromic.\n"
          ]
        }
      ]
    },
    {
      "cell_type": "code",
      "source": [
        "def is_palindrome(number):\n",
        "    \"\"\"Check if a number is palindromic using String.\"\"\"\n",
        "    # Convert the number to string for easy comparison\n",
        "    str_num = str(number)\n",
        "\n",
        "    # Check if the number is equal to its reverse\n",
        "    if str_num == str_num[::-1]:\n",
        "        return True\n",
        "    else:\n",
        "        return False\n",
        "\n",
        "# Input: Get the number from the user\n",
        "num = int(input(\"Enter a number: \"))\n",
        "\n",
        "# Check and display the result\n",
        "if is_palindrome(num):\n",
        "    print(f\"The number {num} is palindromic.\")\n",
        "else:\n",
        "    print(f\"The number {num} is not palindromic.\")\n"
      ],
      "metadata": {
        "colab": {
          "base_uri": "https://localhost:8080/"
        },
        "id": "KJBzb8x8JOB3",
        "outputId": "dee45e26-5c2d-4f0b-dead-7012b2e5be94"
      },
      "execution_count": 32,
      "outputs": [
        {
          "output_type": "stream",
          "name": "stdout",
          "text": [
            "Enter a number: 31213\n",
            "The number 31213 is palindromic.\n"
          ]
        }
      ]
    },
    {
      "cell_type": "code",
      "source": [],
      "metadata": {
        "id": "wWCzk9DkI7zp"
      },
      "execution_count": null,
      "outputs": []
    }
  ]
}