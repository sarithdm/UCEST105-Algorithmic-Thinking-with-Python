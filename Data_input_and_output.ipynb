{
  "nbformat": 4,
  "nbformat_minor": 0,
  "metadata": {
    "colab": {
      "provenance": []
    },
    "kernelspec": {
      "name": "python3",
      "display_name": "Python 3"
    },
    "language_info": {
      "name": "python"
    }
  },
  "cells": [
    {
      "cell_type": "markdown",
      "source": [
        "#Output"
      ],
      "metadata": {
        "id": "OoZfWrdHuNGt"
      }
    },
    {
      "cell_type": "markdown",
      "source": [
        "Python provides various functions or methods for performing I/O operations. To display something on the screen, Python uses the method print. It just\n",
        "prints whatever is given inside the quotes."
      ],
      "metadata": {
        "id": "F9ZGFQx9taCx"
      }
    },
    {
      "cell_type": "code",
      "execution_count": 1,
      "metadata": {
        "colab": {
          "base_uri": "https://localhost:8080/"
        },
        "id": "3eE_RiPCtYEL",
        "outputId": "086dc182-9970-4f90-a984-a76d8b161874"
      },
      "outputs": [
        {
          "output_type": "stream",
          "name": "stdout",
          "text": [
            "Hello World!\n"
          ]
        }
      ],
      "source": [
        "print(\"Hello World!\")"
      ]
    },
    {
      "cell_type": "code",
      "source": [
        "a = 7\n",
        "print(\"The value of a is \",a)"
      ],
      "metadata": {
        "colab": {
          "base_uri": "https://localhost:8080/"
        },
        "id": "w87yEX8YtkLP",
        "outputId": "a93dae40-1c4f-4c46-8ee8-e8dbc3d6fd75"
      },
      "execution_count": 5,
      "outputs": [
        {
          "output_type": "stream",
          "name": "stdout",
          "text": [
            "The value of a is  7\n"
          ]
        }
      ]
    },
    {
      "cell_type": "code",
      "source": [
        "x=5\n",
        "y=3\n",
        "print(\"The value of\",x,\"and\",y,\"is\",x+y)"
      ],
      "metadata": {
        "colab": {
          "base_uri": "https://localhost:8080/"
        },
        "id": "4Osm7qbvtqg0",
        "outputId": "89a39172-1777-46bd-ee02-c775c32ff93a"
      },
      "execution_count": 7,
      "outputs": [
        {
          "output_type": "stream",
          "name": "stdout",
          "text": [
            "The value of 5 and 3 is 8\n"
          ]
        }
      ]
    },
    {
      "cell_type": "markdown",
      "source": [
        "Python f-strings offer a prettier way to achieve the same message output. The string to be printed should be prefixed with a ‘f’ indicating an f-string. The variables to be printed are to be enclosed in a pair of braces."
      ],
      "metadata": {
        "id": "4fYcSe7Pt7om"
      }
    },
    {
      "cell_type": "code",
      "source": [
        "x=10\n",
        "y=30\n",
        "print(f\"The value of {x} and {y} is {x+y}\")"
      ],
      "metadata": {
        "colab": {
          "base_uri": "https://localhost:8080/"
        },
        "id": "EFqBzOTxt0uN",
        "outputId": "3c647646-fa3e-4394-ef3d-6150f8cb94d6"
      },
      "execution_count": 8,
      "outputs": [
        {
          "output_type": "stream",
          "name": "stdout",
          "text": [
            "The value of 10 and 30 is 40\n"
          ]
        }
      ]
    },
    {
      "cell_type": "markdown",
      "source": [
        "#Input"
      ],
      "metadata": {
        "id": "2Aze2ZGnuQTK"
      }
    },
    {
      "cell_type": "markdown",
      "source": [
        "To receive input from the user, Python provides the input() method which\n",
        "accepts the input as a string"
      ],
      "metadata": {
        "id": "3XmO8pyAuTG5"
      }
    },
    {
      "cell_type": "code",
      "source": [
        "myName = input(\"What is your name?\")"
      ],
      "metadata": {
        "colab": {
          "base_uri": "https://localhost:8080/"
        },
        "id": "SmezjaR0uCif",
        "outputId": "3b519ecd-9c01-4ab2-f9bb-ff02631fc9ba"
      },
      "execution_count": 9,
      "outputs": [
        {
          "name": "stdout",
          "output_type": "stream",
          "text": [
            "What is your name?Hi\n"
          ]
        }
      ]
    },
    {
      "cell_type": "code",
      "source": [
        "print(\"I am \",myName)"
      ],
      "metadata": {
        "colab": {
          "base_uri": "https://localhost:8080/"
        },
        "id": "y4HTWxv0uVGD",
        "outputId": "9823e7b7-5418-45f0-ff4c-c348777bdb74"
      },
      "execution_count": 10,
      "outputs": [
        {
          "output_type": "stream",
          "name": "stdout",
          "text": [
            "I am  Hi\n"
          ]
        }
      ]
    },
    {
      "cell_type": "code",
      "source": [
        "myName = input()"
      ],
      "metadata": {
        "colab": {
          "base_uri": "https://localhost:8080/"
        },
        "id": "s6kIPNeQuX1t",
        "outputId": "9825d1e4-a729-48b6-f7b2-a407f6453936"
      },
      "execution_count": 11,
      "outputs": [
        {
          "name": "stdout",
          "output_type": "stream",
          "text": [
            "hello\n"
          ]
        }
      ]
    },
    {
      "cell_type": "code",
      "source": [
        "print(\"I am \",myName)"
      ],
      "metadata": {
        "colab": {
          "base_uri": "https://localhost:8080/"
        },
        "id": "izsbwVzquixA",
        "outputId": "a88a02d1-be8f-40e2-f8be-3fea6e6f00cf"
      },
      "execution_count": 12,
      "outputs": [
        {
          "output_type": "stream",
          "name": "stdout",
          "text": [
            "I am  hello\n"
          ]
        }
      ]
    },
    {
      "cell_type": "markdown",
      "source": [
        "Python uses\n",
        "type conversion functions to convert values from one data type to another."
      ],
      "metadata": {
        "id": "TcLB2Xm1ueFR"
      }
    },
    {
      "cell_type": "markdown",
      "source": [
        "#Type Conversion\n",
        "int(a number or a string)\n",
        "float(a number or a string)\n",
        "str(any value)"
      ],
      "metadata": {
        "id": "TBzaO0QxuwfO"
      }
    },
    {
      "cell_type": "code",
      "source": [
        "num = int(input())\n"
      ],
      "metadata": {
        "colab": {
          "base_uri": "https://localhost:8080/"
        },
        "id": "D1PuZJrWueRt",
        "outputId": "b61681ad-00b7-4690-87eb-0d45a47fa2aa"
      },
      "execution_count": 23,
      "outputs": [
        {
          "name": "stdout",
          "output_type": "stream",
          "text": [
            "3\n"
          ]
        }
      ]
    },
    {
      "cell_type": "code",
      "source": [
        "print(num+10)"
      ],
      "metadata": {
        "colab": {
          "base_uri": "https://localhost:8080/"
        },
        "id": "gXGRH4zHu---",
        "outputId": "a6eb9b82-534b-47cd-a6a1-bad841c023a2"
      },
      "execution_count": 24,
      "outputs": [
        {
          "output_type": "stream",
          "name": "stdout",
          "text": [
            "13\n"
          ]
        }
      ]
    },
    {
      "cell_type": "code",
      "source": [
        "type(num)"
      ],
      "metadata": {
        "colab": {
          "base_uri": "https://localhost:8080/"
        },
        "id": "qRDT5oKCvW35",
        "outputId": "170edab7-24bc-42b1-b699-2f120855c7f9"
      },
      "execution_count": 25,
      "outputs": [
        {
          "output_type": "execute_result",
          "data": {
            "text/plain": [
              "int"
            ]
          },
          "metadata": {},
          "execution_count": 25
        }
      ]
    },
    {
      "cell_type": "code",
      "source": [
        "num = float(input())"
      ],
      "metadata": {
        "colab": {
          "base_uri": "https://localhost:8080/"
        },
        "id": "VYeS_IoovI7u",
        "outputId": "d8e257da-d45f-4dbe-c0c4-a7a18d959584"
      },
      "execution_count": 26,
      "outputs": [
        {
          "name": "stdout",
          "output_type": "stream",
          "text": [
            "3\n"
          ]
        }
      ]
    },
    {
      "cell_type": "code",
      "source": [
        "print(num+10)"
      ],
      "metadata": {
        "colab": {
          "base_uri": "https://localhost:8080/"
        },
        "id": "vDC0-b4VvNnw",
        "outputId": "843aaeec-7b47-43d7-f1bd-711092c7ac7a"
      },
      "execution_count": 27,
      "outputs": [
        {
          "output_type": "stream",
          "name": "stdout",
          "text": [
            "13.0\n"
          ]
        }
      ]
    },
    {
      "cell_type": "code",
      "source": [
        "type(num)"
      ],
      "metadata": {
        "colab": {
          "base_uri": "https://localhost:8080/"
        },
        "id": "XAZlzmEtvPKA",
        "outputId": "8b6a0073-9714-4b65-ffe5-536e071b3d23"
      },
      "execution_count": 28,
      "outputs": [
        {
          "output_type": "execute_result",
          "data": {
            "text/plain": [
              "float"
            ]
          },
          "metadata": {},
          "execution_count": 28
        }
      ]
    },
    {
      "cell_type": "markdown",
      "source": [
        "#Escape sequences"
      ],
      "metadata": {
        "id": "709OSGvdvemy"
      }
    },
    {
      "cell_type": "markdown",
      "source": [
        "With the print method, whatever you enclose within a pair of double quotes,\n",
        "gets printed as such. But there are a few exceptions, like quotation marks, commas,\n",
        "etc.\n",
        "Python provides special character constants referred\n",
        "to as escape sequences. An escape sequence refers to a combination of characters\n",
        "beginning with a backslash (\\) followed by letters."
      ],
      "metadata": {
        "id": "kYfYDWfyvjP-"
      }
    },
    {
      "cell_type": "code",
      "source": [
        "print(\"Hello\\tworld\") #Horizontal tab"
      ],
      "metadata": {
        "colab": {
          "base_uri": "https://localhost:8080/"
        },
        "id": "7IPeyrWJvVxJ",
        "outputId": "9ce692b2-72f9-4961-e1c6-f3b64ba4e5e8"
      },
      "execution_count": 30,
      "outputs": [
        {
          "output_type": "stream",
          "name": "stdout",
          "text": [
            "Hello\tworld\n"
          ]
        }
      ]
    },
    {
      "cell_type": "code",
      "source": [
        "print(\"Hello\\bworld\") #backspace"
      ],
      "metadata": {
        "colab": {
          "base_uri": "https://localhost:8080/"
        },
        "id": "qhBaz7bSvr01",
        "outputId": "5e3d84cf-3ca7-480a-c9d1-98ebe635610a"
      },
      "execution_count": 31,
      "outputs": [
        {
          "output_type": "stream",
          "name": "stdout",
          "text": [
            "Hello\bworld\n"
          ]
        }
      ]
    },
    {
      "cell_type": "code",
      "source": [
        "print(\"Hello \\nworld\") #newline"
      ],
      "metadata": {
        "colab": {
          "base_uri": "https://localhost:8080/"
        },
        "id": "mxqj9_rvvxDN",
        "outputId": "92a7e2d4-2d40-479a-da71-4e5663b4a0d8"
      },
      "execution_count": 32,
      "outputs": [
        {
          "output_type": "stream",
          "name": "stdout",
          "text": [
            "Hello \n",
            "world\n"
          ]
        }
      ]
    },
    {
      "cell_type": "code",
      "source": [
        "print(\"The teacher said, \\\"It\\'s very easy to program with Python\\\"\")"
      ],
      "metadata": {
        "colab": {
          "base_uri": "https://localhost:8080/"
        },
        "id": "Kh8wqfc3v92j",
        "outputId": "985d99aa-edf8-4f67-b700-718ca9c4968b"
      },
      "execution_count": 35,
      "outputs": [
        {
          "output_type": "stream",
          "name": "stdout",
          "text": [
            "The teacher said, \"It's very easy to program with Python\"\n"
          ]
        }
      ]
    },
    {
      "cell_type": "markdown",
      "source": [
        "#Program Comments and Docstrings"
      ],
      "metadata": {
        "id": "q6ZZhQlhwghq"
      }
    },
    {
      "cell_type": "markdown",
      "source": [
        "As programs get bigger and more complicated, they get more difficult to read\n",
        "and understand. For this reason, it is beneficial to add notes to your programs\n",
        "to explain the purpose of the statements. These notes are called comments"
      ],
      "metadata": {
        "id": "Sptq0ovgwjmm"
      }
    },
    {
      "cell_type": "markdown",
      "source": [
        "These comments begin with the # symbol and\n",
        "extend to the end of a line. Everything from the # to the end of the line is\n",
        "ignored by the interpreter while execution – it does not affect the program."
      ],
      "metadata": {
        "id": "Rz4gmZZRwnJ5"
      }
    },
    {
      "cell_type": "code",
      "source": [
        "sum = 5 + 7 # the variable sum contains the sum of 5 and 7"
      ],
      "metadata": {
        "id": "RfM5tSuEwErz"
      },
      "execution_count": 36,
      "outputs": []
    },
    {
      "cell_type": "markdown",
      "source": [
        "Just as comments are attached to individual statements, you can also include\n",
        "details about the program’s purpose at the beginning of the program file. This\n",
        "type of comment called a docstring, is a multi-line string."
      ],
      "metadata": {
        "id": "36-X6_Ftwufj"
      }
    },
    {
      "cell_type": "code",
      "source": [
        "\"\"\"\n",
        "Program name: areaRect.py\n",
        "Version: 1.1\n",
        "This program finds the area of a rectangle.\n",
        "The inputs are two integers representing the length\n",
        "and breadth of a rectangle, and the output is an\n",
        "integer named area that represents the area of\n",
        "the rectangle\n",
        "\"\"\""
      ],
      "metadata": {
        "colab": {
          "base_uri": "https://localhost:8080/",
          "height": 53
        },
        "id": "hHEOurvTwo6W",
        "outputId": "ce418a6a-a1a6-4272-c551-124d78343254"
      },
      "execution_count": 37,
      "outputs": [
        {
          "output_type": "execute_result",
          "data": {
            "text/plain": [
              "'\\nProgram name: areaRect.py\\nVersion: 1.1\\nThis program finds the area of a rectangle.\\nThe inputs are two integers representing the length\\nand breadth of a rectangle, and the output is an\\ninteger named area that represents the area of\\nthe rectangle\\n'"
            ],
            "application/vnd.google.colaboratory.intrinsic+json": {
              "type": "string"
            }
          },
          "metadata": {},
          "execution_count": 37
        }
      ]
    },
    {
      "cell_type": "markdown",
      "source": [
        "#The math module"
      ],
      "metadata": {
        "id": "dGr-S7Tjw182"
      }
    },
    {
      "cell_type": "markdown",
      "source": [
        "Python groups together functions providing similar functionalities\n",
        "into a module for easy access to them. math, sys, os are some commonly\n",
        "encountered modules."
      ],
      "metadata": {
        "id": "e5K0nZLTw6tw"
      }
    },
    {
      "cell_type": "code",
      "source": [
        "import math\n",
        "math.pi"
      ],
      "metadata": {
        "colab": {
          "base_uri": "https://localhost:8080/"
        },
        "id": "kGPXrLTXwwLV",
        "outputId": "5634bf94-f477-4f49-b77a-eacff85b2bee"
      },
      "execution_count": 39,
      "outputs": [
        {
          "output_type": "execute_result",
          "data": {
            "text/plain": [
              "3.141592653589793"
            ]
          },
          "metadata": {},
          "execution_count": 39
        }
      ]
    },
    {
      "cell_type": "code",
      "source": [
        "math.e"
      ],
      "metadata": {
        "colab": {
          "base_uri": "https://localhost:8080/"
        },
        "id": "rvTG1jVgxDi-",
        "outputId": "5f1a29a6-503d-430a-88d3-2ee36e326faf"
      },
      "execution_count": 40,
      "outputs": [
        {
          "output_type": "execute_result",
          "data": {
            "text/plain": [
              "2.718281828459045"
            ]
          },
          "metadata": {},
          "execution_count": 40
        }
      ]
    },
    {
      "cell_type": "code",
      "source": [
        "math.sqrt(9)"
      ],
      "metadata": {
        "colab": {
          "base_uri": "https://localhost:8080/"
        },
        "id": "XOD8jHQCw-kV",
        "outputId": "5aa1f6bd-1109-412f-9b60-703032e98c69"
      },
      "execution_count": 41,
      "outputs": [
        {
          "output_type": "execute_result",
          "data": {
            "text/plain": [
              "3.0"
            ]
          },
          "metadata": {},
          "execution_count": 41
        }
      ]
    },
    {
      "cell_type": "markdown",
      "source": [
        "#Errors in Python program"
      ],
      "metadata": {
        "id": "JsytceZExNgp"
      }
    },
    {
      "cell_type": "markdown",
      "source": [
        "Errors in a Python program are divided into two categories:\n",
        "1. Syntax errors\n",
        "2. Semantic errors"
      ],
      "metadata": {
        "id": "pC1oCNnqxQTq"
      }
    },
    {
      "cell_type": "markdown",
      "source": [
        "##Syntax errors\n",
        "Programming beginners mostly make typographical errors in their programs.\n",
        "Such errors are called syntax errors. Syntax is the set of rules for constructing\n",
        "well-formed expressions or statements in a language. A computer generates a\n",
        "syntax error when an expression or sentence is not well formed. When Python\n",
        "encounters a syntax error in a program, it halts execution with an error message\n",
        "indicating the reason for the error."
      ],
      "metadata": {
        "id": "v4GVhnDLxWBH"
      }
    },
    {
      "cell_type": "markdown",
      "source": [
        "Name error: This error occurs when a referenced variable is not found"
      ],
      "metadata": {
        "id": "pShKIbLrxt82"
      }
    },
    {
      "cell_type": "code",
      "source": [
        "print(aa)"
      ],
      "metadata": {
        "colab": {
          "base_uri": "https://localhost:8080/",
          "height": 141
        },
        "id": "EG6kH570xqml",
        "outputId": "2f052042-45e8-410d-cb3c-cb8c77ec1fff"
      },
      "execution_count": 43,
      "outputs": [
        {
          "output_type": "error",
          "ename": "NameError",
          "evalue": "name 'aa' is not defined",
          "traceback": [
            "\u001b[0;31m---------------------------------------------------------------------------\u001b[0m",
            "\u001b[0;31mNameError\u001b[0m                                 Traceback (most recent call last)",
            "\u001b[0;32m<ipython-input-43-54933412a1fe>\u001b[0m in \u001b[0;36m<cell line: 1>\u001b[0;34m()\u001b[0m\n\u001b[0;32m----> 1\u001b[0;31m \u001b[0mprint\u001b[0m\u001b[0;34m(\u001b[0m\u001b[0maa\u001b[0m\u001b[0;34m)\u001b[0m\u001b[0;34m\u001b[0m\u001b[0;34m\u001b[0m\u001b[0m\n\u001b[0m",
            "\u001b[0;31mNameError\u001b[0m: name 'aa' is not defined"
          ]
        }
      ]
    },
    {
      "cell_type": "markdown",
      "source": [
        "Syntax error: A very common mistake while writing programs is to omit the required parentheses,"
      ],
      "metadata": {
        "id": "x2MxW9iRx2B0"
      }
    },
    {
      "cell_type": "code",
      "source": [
        "print aa"
      ],
      "metadata": {
        "colab": {
          "base_uri": "https://localhost:8080/",
          "height": 106
        },
        "id": "NcxC2Xawx0uB",
        "outputId": "1d8622a9-7258-49fe-a13e-f6d2b8e68886"
      },
      "execution_count": 44,
      "outputs": [
        {
          "output_type": "error",
          "ename": "SyntaxError",
          "evalue": "Missing parentheses in call to 'print'. Did you mean print(...)? (<ipython-input-44-669375dbe5d1>, line 1)",
          "traceback": [
            "\u001b[0;36m  File \u001b[0;32m\"<ipython-input-44-669375dbe5d1>\"\u001b[0;36m, line \u001b[0;32m1\u001b[0m\n\u001b[0;31m    print aa\u001b[0m\n\u001b[0m    ^\u001b[0m\n\u001b[0;31mSyntaxError\u001b[0m\u001b[0;31m:\u001b[0m Missing parentheses in call to 'print'. Did you mean print(...)?\n"
          ]
        }
      ]
    },
    {
      "cell_type": "markdown",
      "source": [
        "Indentation error: Each line of code must begin in\n",
        "the leftmost column, with no leading spaces. The only exception to this rule\n",
        "occurs in control statements and definitions, where nested statements must be\n",
        "indented one or more spaces."
      ],
      "metadata": {
        "id": "fYJd7ao9yBxg"
      }
    },
    {
      "cell_type": "code",
      "source": [
        "print(x)\n",
        " print(y)"
      ],
      "metadata": {
        "colab": {
          "base_uri": "https://localhost:8080/",
          "height": 106
        },
        "id": "-3PwfVsnyLx8",
        "outputId": "9a1e0034-cc76-48bb-8854-93f654e81787"
      },
      "execution_count": 47,
      "outputs": [
        {
          "output_type": "error",
          "ename": "IndentationError",
          "evalue": "unexpected indent (<ipython-input-47-08170f5dca8a>, line 2)",
          "traceback": [
            "\u001b[0;36m  File \u001b[0;32m\"<ipython-input-47-08170f5dca8a>\"\u001b[0;36m, line \u001b[0;32m2\u001b[0m\n\u001b[0;31m    print(y)\u001b[0m\n\u001b[0m    ^\u001b[0m\n\u001b[0;31mIndentationError\u001b[0m\u001b[0;31m:\u001b[0m unexpected indent\n"
          ]
        }
      ]
    },
    {
      "cell_type": "markdown",
      "source": [
        "Type error: Python is a strongly typed programming language. This means that the interpreter\n",
        "checks the data types of all operands before performing any operation.\n",
        "If the type of an operand is not appropriate, the interpreter halts execution with\n",
        "an error message."
      ],
      "metadata": {
        "id": "f4oE8t2AyXY5"
      }
    },
    {
      "cell_type": "code",
      "source": [
        "5+'3'"
      ],
      "metadata": {
        "colab": {
          "base_uri": "https://localhost:8080/",
          "height": 141
        },
        "id": "qaUgemoXyZux",
        "outputId": "0b75d144-5f7b-4afa-ea17-f4145c395323"
      },
      "execution_count": 48,
      "outputs": [
        {
          "output_type": "error",
          "ename": "TypeError",
          "evalue": "unsupported operand type(s) for +: 'int' and 'str'",
          "traceback": [
            "\u001b[0;31m---------------------------------------------------------------------------\u001b[0m",
            "\u001b[0;31mTypeError\u001b[0m                                 Traceback (most recent call last)",
            "\u001b[0;32m<ipython-input-48-5f7e5e349433>\u001b[0m in \u001b[0;36m<cell line: 1>\u001b[0;34m()\u001b[0m\n\u001b[0;32m----> 1\u001b[0;31m \u001b[0;36m5\u001b[0m\u001b[0;34m+\u001b[0m\u001b[0;34m'3'\u001b[0m\u001b[0;34m\u001b[0m\u001b[0;34m\u001b[0m\u001b[0m\n\u001b[0m",
            "\u001b[0;31mTypeError\u001b[0m: unsupported operand type(s) for +: 'int' and 'str'"
          ]
        }
      ]
    },
    {
      "cell_type": "markdown",
      "source": [
        "##Semantic errors\n",
        "Semantics is the set of rules that allows the computer to interpret the meaning\n",
        "of expressions or statements. A semantic error is detected when the action that\n",
        "an expression describes cannot be carried out, even though that expression is\n",
        "syntactically correct. Division by zero is the most common semantic error."
      ],
      "metadata": {
        "id": "N0ns7arUxmGy"
      }
    },
    {
      "cell_type": "code",
      "source": [
        "7/0"
      ],
      "metadata": {
        "colab": {
          "base_uri": "https://localhost:8080/",
          "height": 141
        },
        "id": "CklOxgk5xHMw",
        "outputId": "0603e21a-1995-4f7c-bd75-e97b6e1ce15b"
      },
      "execution_count": 49,
      "outputs": [
        {
          "output_type": "error",
          "ename": "ZeroDivisionError",
          "evalue": "division by zero",
          "traceback": [
            "\u001b[0;31m---------------------------------------------------------------------------\u001b[0m",
            "\u001b[0;31mZeroDivisionError\u001b[0m                         Traceback (most recent call last)",
            "\u001b[0;32m<ipython-input-49-ff4b999c47a3>\u001b[0m in \u001b[0;36m<cell line: 1>\u001b[0;34m()\u001b[0m\n\u001b[0;32m----> 1\u001b[0;31m \u001b[0;36m7\u001b[0m\u001b[0;34m/\u001b[0m\u001b[0;36m0\u001b[0m\u001b[0;34m\u001b[0m\u001b[0;34m\u001b[0m\u001b[0m\n\u001b[0m",
            "\u001b[0;31mZeroDivisionError\u001b[0m: division by zero"
          ]
        }
      ]
    },
    {
      "cell_type": "markdown",
      "source": [
        "#Programs"
      ],
      "metadata": {
        "id": "MVWq_GLFyrJL"
      }
    },
    {
      "cell_type": "markdown",
      "source": [
        "###To input two values a and b and then find a^b."
      ],
      "metadata": {
        "id": "2sa8wVX-yuAs"
      }
    },
    {
      "cell_type": "code",
      "source": [
        "import math\n",
        "a=int(input(\"Enter the base\"))\n",
        "b=int(input(\"Enter the exponent\"))\n",
        "c=math.pow(a,b)\n",
        "print(a,\"to the power\",b,\"is\",c)"
      ],
      "metadata": {
        "colab": {
          "base_uri": "https://localhost:8080/"
        },
        "id": "dwJMxcreyhR3",
        "outputId": "e15252dc-c986-421a-aa0b-510aafb09038"
      },
      "execution_count": 50,
      "outputs": [
        {
          "output_type": "stream",
          "name": "stdout",
          "text": [
            "Enter the base2\n",
            "Enter the exponent3\n",
            "2 to the power 3 is 8.0\n"
          ]
        }
      ]
    },
    {
      "cell_type": "markdown",
      "source": [
        "###Write a Python program to calculate simple interest by inputting the value of the Principal amount, period, and interest rate from the user"
      ],
      "metadata": {
        "id": "pFO0gaRkz4F6"
      }
    },
    {
      "cell_type": "code",
      "source": [
        "# Function to calculate simple interest\n",
        "def calculate_simple_interest(principal, rate, time):\n",
        "    # Formula for simple interest\n",
        "    simple_interest = (principal * rate * time) / 100\n",
        "    return simple_interest\n",
        "\n",
        "# Taking user input\n",
        "principal = float(input(\"Enter the principal amount: \"))\n",
        "rate = float(input(\"Enter the interest rate (in percentage): \"))\n",
        "time = float(input(\"Enter the time period (in years): \"))\n",
        "\n",
        "# Calculate simple interest\n",
        "interest = calculate_simple_interest(principal, rate, time)\n",
        "\n",
        "# Display the result\n",
        "print(f\"The simple interest is: {interest}\")\n"
      ],
      "metadata": {
        "colab": {
          "base_uri": "https://localhost:8080/"
        },
        "id": "qhHBEmQUzPb1",
        "outputId": "eb97ce3a-7f36-4e02-a5a3-e6c24e144427"
      },
      "execution_count": 52,
      "outputs": [
        {
          "output_type": "stream",
          "name": "stdout",
          "text": [
            "Enter the principal amount: 10\n",
            "Enter the interest rate (in percentage): 7\n",
            "Enter the time period (in years): 6\n",
            "The simple interest is: 4.2\n"
          ]
        }
      ]
    },
    {
      "cell_type": "markdown",
      "source": [
        "###Write a Python program to convert the time input in minutes to hours and minutes. For example, 85 minutes is 1 hour 25 minutes"
      ],
      "metadata": {
        "id": "9099YfRT0Iy8"
      }
    },
    {
      "cell_type": "code",
      "source": [
        "# Function to convert minutes to hours and minutes\n",
        "def convert_time(minutes):\n",
        "    hours = minutes // 60  # Get the number of full hours\n",
        "    remaining_minutes = minutes % 60  # Get the remaining minutes\n",
        "    return hours, remaining_minutes\n",
        "\n",
        "# Taking user input\n",
        "minutes = int(input(\"Enter the time in minutes: \"))\n",
        "\n",
        "# Convert time to hours and minutes\n",
        "hours, remaining_minutes = convert_time(minutes)\n",
        "\n",
        "# Display the result\n",
        "print(f\"{minutes} minutes is {hours} hour(s) and {remaining_minutes} minute(s).\")\n"
      ],
      "metadata": {
        "colab": {
          "base_uri": "https://localhost:8080/"
        },
        "id": "cCr_TSeR0AzP",
        "outputId": "a5e240af-afbc-4731-db30-197582808b54"
      },
      "execution_count": 53,
      "outputs": [
        {
          "output_type": "stream",
          "name": "stdout",
          "text": [
            "Enter the time in minutes: 190\n",
            "190 minutes is 3 hour(s) and 10 minute(s).\n"
          ]
        }
      ]
    },
    {
      "cell_type": "markdown",
      "source": [
        "###Write a Python program that inputs the cost of an item and the number of items and displays the total cost."
      ],
      "metadata": {
        "id": "VCIkNAvE0UmP"
      }
    },
    {
      "cell_type": "code",
      "source": [
        "# Function to calculate total cost\n",
        "def calculate_total_cost(cost_per_item, number_of_items):\n",
        "    total_cost = cost_per_item * number_of_items\n",
        "    return total_cost\n",
        "\n",
        "# Taking user input\n",
        "cost_per_item = float(input(\"Enter the cost of one item: \"))\n",
        "number_of_items = int(input(\"Enter the number of items: \"))\n",
        "\n",
        "# Calculate total cost\n",
        "total_cost = calculate_total_cost(cost_per_item, number_of_items)\n",
        "\n",
        "# Display the result\n",
        "print(f\"The total cost for {number_of_items} items is: {total_cost}\")\n"
      ],
      "metadata": {
        "colab": {
          "base_uri": "https://localhost:8080/"
        },
        "id": "xFCnwX810PPs",
        "outputId": "ac9fe500-7ed9-43c9-de3c-6b2afffd8f6b"
      },
      "execution_count": 54,
      "outputs": [
        {
          "output_type": "stream",
          "name": "stdout",
          "text": [
            "Enter the cost of one item: 10\n",
            "Enter the number of items: 2\n",
            "The total cost for 2 items is: 20.0\n"
          ]
        }
      ]
    },
    {
      "cell_type": "markdown",
      "source": [
        "###Write a Python program that takes an amount in dollars and converts it to Indian rupees"
      ],
      "metadata": {
        "id": "1iCy-qRt0kYj"
      }
    },
    {
      "cell_type": "code",
      "source": [
        "# Function to convert dollars to rupees\n",
        "def convert_to_inr(dollars, conversion_rate):\n",
        "    inr = dollars * conversion_rate\n",
        "    return inr\n",
        "\n",
        "# Taking user input\n",
        "dollars = float(input(\"Enter the amount in dollars: \"))\n",
        "\n",
        "# Define the conversion rate (example rate)\n",
        "conversion_rate = 83.00  # 1 USD = 83 INR (this rate can change, check the current rate)\n",
        "\n",
        "# Convert dollars to Indian Rupees\n",
        "inr = convert_to_inr(dollars, conversion_rate)\n",
        "\n",
        "# Display the result\n",
        "print(f\"{dollars} dollars is equal to {inr} Indian Rupees.\")\n"
      ],
      "metadata": {
        "colab": {
          "base_uri": "https://localhost:8080/"
        },
        "id": "1JGdRgRR0bN3",
        "outputId": "0a4e3fe7-f518-4070-f1d9-7162506298e2"
      },
      "execution_count": 55,
      "outputs": [
        {
          "output_type": "stream",
          "name": "stdout",
          "text": [
            "Enter the amount in dollars: 10\n",
            "10.0 dollars is equal to 830.0 Indian Rupees.\n"
          ]
        }
      ]
    },
    {
      "cell_type": "markdown",
      "source": [
        "###Write a Python program to reverse a three-digit number."
      ],
      "metadata": {
        "id": "7z4jp0ac0qG4"
      }
    },
    {
      "cell_type": "code",
      "source": [
        "# Input: a three-digit number\n",
        "number = int(input(\"Enter a three-digit number: \"))\n",
        "\n",
        "# Initialize the reversed number\n",
        "reversed_number = 0\n",
        "\n",
        "# Loop to reverse the number\n",
        "while number > 0:\n",
        "    # Get the last digit\n",
        "    digit = number % 10\n",
        "\n",
        "    # Add the digit to the reversed number\n",
        "    reversed_number = reversed_number * 10 + digit\n",
        "\n",
        "    # Remove the last digit from the number\n",
        "    number = number // 10\n",
        "\n",
        "# Output: the reversed number\n",
        "print(\"The reversed number is:\", reversed_number)\n"
      ],
      "metadata": {
        "colab": {
          "base_uri": "https://localhost:8080/"
        },
        "id": "W9Bh6jWp0lrl",
        "outputId": "e99babe4-f0e9-4dd6-f7ed-e32b959a1195"
      },
      "execution_count": 56,
      "outputs": [
        {
          "output_type": "stream",
          "name": "stdout",
          "text": [
            "Enter a three-digit number: 345\n",
            "The reversed number is: 543\n"
          ]
        }
      ]
    },
    {
      "cell_type": "markdown",
      "source": [
        "Without Loop"
      ],
      "metadata": {
        "id": "0ddZ98qC1Th1"
      }
    },
    {
      "cell_type": "code",
      "source": [
        "# Input: a three-digit number\n",
        "number = int(input(\"Enter a three-digit number: \"))\n",
        "\n",
        "# Reverse the number\n",
        "reversed_number = (number % 10) * 100 + (number // 10 % 10) * 10 + (number // 100)\n",
        "\n",
        "# Output: the reversed number\n",
        "print(\"The reversed number is:\", reversed_number)\n"
      ],
      "metadata": {
        "colab": {
          "base_uri": "https://localhost:8080/"
        },
        "id": "n20QyJX41NKr",
        "outputId": "b1d6a364-5e75-4c04-a61f-ead624b51c05"
      },
      "execution_count": 57,
      "outputs": [
        {
          "output_type": "stream",
          "name": "stdout",
          "text": [
            "Enter a three-digit number: 345\n",
            "The reversed number is: 543\n"
          ]
        }
      ]
    },
    {
      "cell_type": "markdown",
      "source": [
        "With String"
      ],
      "metadata": {
        "id": "tKJIPj_C1WE-"
      }
    },
    {
      "cell_type": "code",
      "source": [
        "  # Input: a three-digit number\n",
        "number = input(\"Enter a three-digit number: \")\n",
        "\n",
        "# Reverse the number using string slicing\n",
        "reversed_number = number[::-1]\n",
        "\n",
        "# Output: the reversed number\n",
        "print(\"The reversed number is:\", reversed_number)\n"
      ],
      "metadata": {
        "colab": {
          "base_uri": "https://localhost:8080/"
        },
        "id": "jm0O6zeV1RDM",
        "outputId": "9fd901b1-e6d8-4eee-9b1e-2a4380a52c88"
      },
      "execution_count": 58,
      "outputs": [
        {
          "output_type": "stream",
          "name": "stdout",
          "text": [
            "Enter a three-digit number: 345\n",
            "The reversed number is: 543\n"
          ]
        }
      ]
    },
    {
      "cell_type": "markdown",
      "source": [
        "###You are given the task of calculating the electricity bill of a house. Each house has the following components: fan, light, washing machine, and computer. Each fan consumes 1 unit per day, and each light consumes 0.5 units per day, the washing machine consumes 2 units per day and each computer consumes 3 units per day. Let the cost of 1 unit be 50 rupees. Input the number of fans, lights, washing machines, and computers for a particular house and find the total electricity bill for that house for 2 months. Assume a 30-day month."
      ],
      "metadata": {
        "id": "zNG49fI41hLA"
      }
    },
    {
      "cell_type": "code",
      "source": [
        "# Input: number of fans, lights, washing machines, and computers\n",
        "fans = int(input(\"Enter the number of fans: \"))\n",
        "lights = int(input(\"Enter the number of lights: \"))\n",
        "washing_machines = int(input(\"Enter the number of washing machines: \"))\n",
        "computers = int(input(\"Enter the number of computers: \"))\n",
        "\n",
        "# Consumption details per day\n",
        "fan_consumption = 1        # Each fan consumes 1 unit per day\n",
        "light_consumption = 0.5    # Each light consumes 0.5 units per day\n",
        "washing_machine_consumption = 2  # Each washing machine consumes 2 units per day\n",
        "computer_consumption = 3   # Each computer consumes 3 units per day\n",
        "\n",
        "# Cost of 1 unit\n",
        "unit_cost = 8\n",
        "\n",
        "# Calculate total daily consumption\n",
        "total_consumption_per_day = (fans * fan_consumption) + (lights * light_consumption) + (washing_machines * washing_machine_consumption) + (computers * computer_consumption)\n",
        "\n",
        "# Calculate total consumption for 2 months (60 days)\n",
        "total_consumption_2_months = total_consumption_per_day * 60\n",
        "print(total_consumption_2_months)\n",
        "\n",
        "# Calculate the total bill\n",
        "total_bill = total_consumption_2_months * unit_cost\n",
        "\n",
        "# Output: the total electricity bill\n",
        "print(\"The total electricity bill for 2 months is:\", total_bill, \"rupees\")\n"
      ],
      "metadata": {
        "colab": {
          "base_uri": "https://localhost:8080/"
        },
        "id": "A3HIn4ss1bDS",
        "outputId": "1acbc504-38ba-4ac3-9b16-78c60e4736f8"
      },
      "execution_count": 61,
      "outputs": [
        {
          "output_type": "stream",
          "name": "stdout",
          "text": [
            "Enter the number of fans: 3\n",
            "Enter the number of lights: 4\n",
            "Enter the number of washing machines: 1\n",
            "Enter the number of computers: 1\n",
            "600.0\n",
            "The total electricity bill for 2 months is: 4800.0 rupees\n"
          ]
        }
      ]
    },
    {
      "cell_type": "code",
      "source": [],
      "metadata": {
        "id": "eG1wFhwx1uJl"
      },
      "execution_count": null,
      "outputs": []
    }
  ]
}